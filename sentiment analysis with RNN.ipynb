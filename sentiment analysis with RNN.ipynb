{
 "cells": [
  {
   "cell_type": "code",
   "execution_count": 2,
   "metadata": {},
   "outputs": [],
   "source": [
    "from tensorflow.keras.preprocessing import sequence\n",
    "from tensorflow.keras.models import Sequential\n",
    "from tensorflow.keras.layers import Dense,Embedding,LSTM\n",
    "from tensorflow.keras.datasets import imdb\n"
   ]
  },
  {
   "cell_type": "code",
   "execution_count": 3,
   "metadata": {},
   "outputs": [
    {
     "name": "stdout",
     "output_type": "stream",
     "text": [
      "Data is loaded\n"
     ]
    }
   ],
   "source": [
    "(X_train,y_train),(X_test,y_test) = imdb.load_data(num_words=20000)\n",
    "print('Data is loaded')"
   ]
  },
  {
   "cell_type": "code",
   "execution_count": 4,
   "metadata": {},
   "outputs": [
    {
     "data": {
      "text/plain": [
       "[1,\n",
       " 14,\n",
       " 22,\n",
       " 16,\n",
       " 43,\n",
       " 530,\n",
       " 973,\n",
       " 1622,\n",
       " 1385,\n",
       " 65,\n",
       " 458,\n",
       " 4468,\n",
       " 66,\n",
       " 3941,\n",
       " 4,\n",
       " 173,\n",
       " 36,\n",
       " 256,\n",
       " 5,\n",
       " 25,\n",
       " 100,\n",
       " 43,\n",
       " 838,\n",
       " 112,\n",
       " 50,\n",
       " 670,\n",
       " 2,\n",
       " 9,\n",
       " 35,\n",
       " 480,\n",
       " 284,\n",
       " 5,\n",
       " 150,\n",
       " 4,\n",
       " 172,\n",
       " 112,\n",
       " 167,\n",
       " 2,\n",
       " 336,\n",
       " 385,\n",
       " 39,\n",
       " 4,\n",
       " 172,\n",
       " 4536,\n",
       " 1111,\n",
       " 17,\n",
       " 546,\n",
       " 38,\n",
       " 13,\n",
       " 447,\n",
       " 4,\n",
       " 192,\n",
       " 50,\n",
       " 16,\n",
       " 6,\n",
       " 147,\n",
       " 2025,\n",
       " 19,\n",
       " 14,\n",
       " 22,\n",
       " 4,\n",
       " 1920,\n",
       " 4613,\n",
       " 469,\n",
       " 4,\n",
       " 22,\n",
       " 71,\n",
       " 87,\n",
       " 12,\n",
       " 16,\n",
       " 43,\n",
       " 530,\n",
       " 38,\n",
       " 76,\n",
       " 15,\n",
       " 13,\n",
       " 1247,\n",
       " 4,\n",
       " 22,\n",
       " 17,\n",
       " 515,\n",
       " 17,\n",
       " 12,\n",
       " 16,\n",
       " 626,\n",
       " 18,\n",
       " 19193,\n",
       " 5,\n",
       " 62,\n",
       " 386,\n",
       " 12,\n",
       " 8,\n",
       " 316,\n",
       " 8,\n",
       " 106,\n",
       " 5,\n",
       " 4,\n",
       " 2223,\n",
       " 5244,\n",
       " 16,\n",
       " 480,\n",
       " 66,\n",
       " 3785,\n",
       " 33,\n",
       " 4,\n",
       " 130,\n",
       " 12,\n",
       " 16,\n",
       " 38,\n",
       " 619,\n",
       " 5,\n",
       " 25,\n",
       " 124,\n",
       " 51,\n",
       " 36,\n",
       " 135,\n",
       " 48,\n",
       " 25,\n",
       " 1415,\n",
       " 33,\n",
       " 6,\n",
       " 22,\n",
       " 12,\n",
       " 215,\n",
       " 28,\n",
       " 77,\n",
       " 52,\n",
       " 5,\n",
       " 14,\n",
       " 407,\n",
       " 16,\n",
       " 82,\n",
       " 10311,\n",
       " 8,\n",
       " 4,\n",
       " 107,\n",
       " 117,\n",
       " 5952,\n",
       " 15,\n",
       " 256,\n",
       " 4,\n",
       " 2,\n",
       " 7,\n",
       " 3766,\n",
       " 5,\n",
       " 723,\n",
       " 36,\n",
       " 71,\n",
       " 43,\n",
       " 530,\n",
       " 476,\n",
       " 26,\n",
       " 400,\n",
       " 317,\n",
       " 46,\n",
       " 7,\n",
       " 4,\n",
       " 12118,\n",
       " 1029,\n",
       " 13,\n",
       " 104,\n",
       " 88,\n",
       " 4,\n",
       " 381,\n",
       " 15,\n",
       " 297,\n",
       " 98,\n",
       " 32,\n",
       " 2071,\n",
       " 56,\n",
       " 26,\n",
       " 141,\n",
       " 6,\n",
       " 194,\n",
       " 7486,\n",
       " 18,\n",
       " 4,\n",
       " 226,\n",
       " 22,\n",
       " 21,\n",
       " 134,\n",
       " 476,\n",
       " 26,\n",
       " 480,\n",
       " 5,\n",
       " 144,\n",
       " 30,\n",
       " 5535,\n",
       " 18,\n",
       " 51,\n",
       " 36,\n",
       " 28,\n",
       " 224,\n",
       " 92,\n",
       " 25,\n",
       " 104,\n",
       " 4,\n",
       " 226,\n",
       " 65,\n",
       " 16,\n",
       " 38,\n",
       " 1334,\n",
       " 88,\n",
       " 12,\n",
       " 16,\n",
       " 283,\n",
       " 5,\n",
       " 16,\n",
       " 4472,\n",
       " 113,\n",
       " 103,\n",
       " 32,\n",
       " 15,\n",
       " 16,\n",
       " 5345,\n",
       " 19,\n",
       " 178,\n",
       " 32]"
      ]
     },
     "execution_count": 4,
     "metadata": {},
     "output_type": "execute_result"
    }
   ],
   "source": [
    "X_train[0]"
   ]
  },
  {
   "cell_type": "code",
   "execution_count": 5,
   "metadata": {},
   "outputs": [
    {
     "data": {
      "text/plain": [
       "1"
      ]
     },
     "execution_count": 5,
     "metadata": {},
     "output_type": "execute_result"
    }
   ],
   "source": [
    "y_train[0]"
   ]
  },
  {
   "cell_type": "code",
   "execution_count": 6,
   "metadata": {},
   "outputs": [],
   "source": [
    "X_train = sequence.pad_sequences(X_train,maxlen=80)\n",
    "X_test = sequence.pad_sequences(X_test,maxlen=80)"
   ]
  },
  {
   "cell_type": "code",
   "execution_count": 7,
   "metadata": {},
   "outputs": [],
   "source": [
    "model = Sequential()\n",
    "model.add(Embedding(20000,128))\n",
    "model.add(LSTM(128,dropout=0.2))\n",
    "model.add(Dense(1,activation='sigmoid'))"
   ]
  },
  {
   "cell_type": "code",
   "execution_count": 8,
   "metadata": {},
   "outputs": [],
   "source": [
    "model.compile(loss      = 'binary_crossentropy',\n",
    "              optimizer = 'adam'               ,\n",
    "              metrics   = ['accuracy']\n",
    "              )"
   ]
  },
  {
   "cell_type": "code",
   "execution_count": 9,
   "metadata": {},
   "outputs": [
    {
     "name": "stdout",
     "output_type": "stream",
     "text": [
      "Epoch 1/15\n",
      "782/782 - 40s - 51ms/step - accuracy: 0.7940 - loss: 0.4371 - val_accuracy: 0.8358 - val_loss: 0.3786\n",
      "Epoch 2/15\n",
      "782/782 - 36s - 46ms/step - accuracy: 0.8947 - loss: 0.2645 - val_accuracy: 0.8340 - val_loss: 0.3984\n",
      "Epoch 3/15\n",
      "782/782 - 34s - 44ms/step - accuracy: 0.9335 - loss: 0.1733 - val_accuracy: 0.8201 - val_loss: 0.4390\n",
      "Epoch 4/15\n",
      "782/782 - 35s - 45ms/step - accuracy: 0.9595 - loss: 0.1118 - val_accuracy: 0.8221 - val_loss: 0.5505\n",
      "Epoch 5/15\n",
      "782/782 - 34s - 43ms/step - accuracy: 0.9710 - loss: 0.0801 - val_accuracy: 0.8184 - val_loss: 0.6036\n",
      "Epoch 6/15\n",
      "782/782 - 35s - 45ms/step - accuracy: 0.9821 - loss: 0.0520 - val_accuracy: 0.8193 - val_loss: 0.6996\n",
      "Epoch 7/15\n",
      "782/782 - 34s - 44ms/step - accuracy: 0.9888 - loss: 0.0350 - val_accuracy: 0.8193 - val_loss: 0.8103\n",
      "Epoch 8/15\n",
      "782/782 - 35s - 45ms/step - accuracy: 0.9904 - loss: 0.0289 - val_accuracy: 0.8073 - val_loss: 0.8684\n",
      "Epoch 9/15\n",
      "782/782 - 37s - 48ms/step - accuracy: 0.9931 - loss: 0.0210 - val_accuracy: 0.8140 - val_loss: 0.9208\n",
      "Epoch 10/15\n",
      "782/782 - 34s - 43ms/step - accuracy: 0.9943 - loss: 0.0182 - val_accuracy: 0.8176 - val_loss: 0.9787\n",
      "Epoch 11/15\n",
      "782/782 - 34s - 44ms/step - accuracy: 0.9954 - loss: 0.0150 - val_accuracy: 0.8151 - val_loss: 0.8985\n",
      "Epoch 12/15\n",
      "782/782 - 30s - 39ms/step - accuracy: 0.9972 - loss: 0.0092 - val_accuracy: 0.8105 - val_loss: 1.2013\n",
      "Epoch 13/15\n",
      "782/782 - 30s - 39ms/step - accuracy: 0.9980 - loss: 0.0064 - val_accuracy: 0.8110 - val_loss: 1.1334\n",
      "Epoch 14/15\n",
      "782/782 - 31s - 39ms/step - accuracy: 0.9959 - loss: 0.0122 - val_accuracy: 0.8121 - val_loss: 1.0752\n",
      "Epoch 15/15\n",
      "782/782 - 31s - 39ms/step - accuracy: 0.9978 - loss: 0.0089 - val_accuracy: 0.8144 - val_loss: 1.1279\n"
     ]
    },
    {
     "data": {
      "text/plain": [
       "<keras.src.callbacks.history.History at 0x1433de7b3d0>"
      ]
     },
     "execution_count": 9,
     "metadata": {},
     "output_type": "execute_result"
    }
   ],
   "source": [
    "model.fit(\n",
    "        X_train,y_train,\n",
    "        batch_size = 32,\n",
    "        epochs     = 15,\n",
    "        verbose    = 2 ,\n",
    "        validation_data=(X_test,y_test)\n",
    ")"
   ]
  },
  {
   "cell_type": "code",
   "execution_count": 10,
   "metadata": {},
   "outputs": [
    {
     "name": "stdout",
     "output_type": "stream",
     "text": [
      "782/782 - 7s - 8ms/step - accuracy: 0.8144 - loss: 1.1279\n",
      "The score is 1.1279468536376953 and the accuracy is 0.8144000172615051\n"
     ]
    }
   ],
   "source": [
    "loss, accuracy = model.evaluate(X_test, y_test, batch_size=32, verbose=2)\n",
    "print(f\"The score is {loss} and the accuracy is {accuracy}\")\n"
   ]
  },
  {
   "cell_type": "code",
   "execution_count": 12,
   "metadata": {},
   "outputs": [],
   "source": [
    "model.save(\"sentiment_model.keras\")"
   ]
  },
  {
   "cell_type": "code",
   "execution_count": 16,
   "metadata": {},
   "outputs": [],
   "source": [
    "word_index = imdb.get_word_index()\n",
    "\n",
    "\n",
    "def text_to_sequence(text):\n",
    "    words = text.lower().split()\n",
    "    sequence_data = [word_index[word] if word in word_index else 2 for word in words]  # 2 = UNK (unknown)\n",
    "    return sequence_data\n",
    "\n",
    "# 📌 أدخل أي نص هنا للتجربة\n"
   ]
  },
  {
   "cell_type": "code",
   "execution_count": 19,
   "metadata": {},
   "outputs": [
    {
     "name": "stdout",
     "output_type": "stream",
     "text": [
      "\u001b[1m1/1\u001b[0m \u001b[32m━━━━━━━━━━━━━━━━━━━━\u001b[0m\u001b[37m\u001b[0m \u001b[1m0s\u001b[0m 36ms/step\n",
      "Sentiment Score: 0.06317514181137085\n",
      "Negative Review 😠\n"
     ]
    }
   ],
   "source": [
    "new_review = \"Not good\"\n",
    "\n",
    "# تحويل النص إلى تسلسل أرقام\n",
    "new_sequence = text_to_sequence(new_review)\n",
    "\n",
    "# تطبيق نفس الـ padding المستخدم أثناء التدريب\n",
    "new_sequence = sequence.pad_sequences([new_sequence], maxlen=80)\n",
    "\n",
    "# 🔥 التنبؤ باستخدام الموديل الحالي\n",
    "prediction = model.predict(new_sequence)\n",
    "\n",
    "# عرض النتيجة\n",
    "print(f\"Sentiment Score: {prediction[0][0]}\")\n",
    "if prediction[0][0] > 0.5:\n",
    "    print(\"Positive Review 😀\")\n",
    "else:\n",
    "    print(\"Negative Review 😠\")"
   ]
  }
 ],
 "metadata": {
  "kernelspec": {
   "display_name": "Python 3",
   "language": "python",
   "name": "python3"
  },
  "language_info": {
   "codemirror_mode": {
    "name": "ipython",
    "version": 3
   },
   "file_extension": ".py",
   "mimetype": "text/x-python",
   "name": "python",
   "nbconvert_exporter": "python",
   "pygments_lexer": "ipython3",
   "version": "3.11.4"
  }
 },
 "nbformat": 4,
 "nbformat_minor": 2
}
